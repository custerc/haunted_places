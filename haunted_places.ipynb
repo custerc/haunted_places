{
 "cells": [
  {
   "cell_type": "markdown",
   "metadata": {},
   "source": [
    "# Haunted Places\n",
    "Just having some fun messing around with [this data set](https://data.world/timothyrenner/haunted-places/workspace/file?filename=haunted_places.csv) of ostensibly haunted places."
   ]
  },
  {
   "cell_type": "code",
   "execution_count": 21,
   "metadata": {},
   "outputs": [
    {
     "data": {
      "text/html": [
       "<div>\n",
       "<style scoped>\n",
       "    .dataframe tbody tr th:only-of-type {\n",
       "        vertical-align: middle;\n",
       "    }\n",
       "\n",
       "    .dataframe tbody tr th {\n",
       "        vertical-align: top;\n",
       "    }\n",
       "\n",
       "    .dataframe thead th {\n",
       "        text-align: right;\n",
       "    }\n",
       "</style>\n",
       "<table border=\"1\" class=\"dataframe\">\n",
       "  <thead>\n",
       "    <tr style=\"text-align: right;\">\n",
       "      <th></th>\n",
       "      <th>city</th>\n",
       "      <th>country</th>\n",
       "      <th>description</th>\n",
       "      <th>location</th>\n",
       "      <th>state</th>\n",
       "      <th>state_abbrev</th>\n",
       "      <th>longitude</th>\n",
       "      <th>latitude</th>\n",
       "      <th>city_longitude</th>\n",
       "      <th>city_latitude</th>\n",
       "    </tr>\n",
       "  </thead>\n",
       "  <tbody>\n",
       "    <tr>\n",
       "      <th>10987</th>\n",
       "      <td>Westminster</td>\n",
       "      <td>United States</td>\n",
       "      <td>at 12 midnight you can see a lady with two lit...</td>\n",
       "      <td>city hall</td>\n",
       "      <td>Colorado</td>\n",
       "      <td>CO</td>\n",
       "      <td>-105.048936</td>\n",
       "      <td>39.862610</td>\n",
       "      <td>-105.037205</td>\n",
       "      <td>39.836653</td>\n",
       "    </tr>\n",
       "    <tr>\n",
       "      <th>10988</th>\n",
       "      <td>Westminster</td>\n",
       "      <td>United States</td>\n",
       "      <td>Is haunted by the victims of a murder that hap...</td>\n",
       "      <td>Pillar of Fire</td>\n",
       "      <td>Colorado</td>\n",
       "      <td>CO</td>\n",
       "      <td>-105.032091</td>\n",
       "      <td>39.847237</td>\n",
       "      <td>-105.037205</td>\n",
       "      <td>39.836653</td>\n",
       "    </tr>\n",
       "    <tr>\n",
       "      <th>10989</th>\n",
       "      <td>Wheat Ridge</td>\n",
       "      <td>United States</td>\n",
       "      <td>The institution was for kids 18 years old and ...</td>\n",
       "      <td>Ridge Mental Institution</td>\n",
       "      <td>Colorado</td>\n",
       "      <td>CO</td>\n",
       "      <td>-105.063974</td>\n",
       "      <td>39.769726</td>\n",
       "      <td>-105.077206</td>\n",
       "      <td>39.766098</td>\n",
       "    </tr>\n",
       "    <tr>\n",
       "      <th>10990</th>\n",
       "      <td>Wheat Ridge</td>\n",
       "      <td>United States</td>\n",
       "      <td>Gymnasium -  their have been reports of a litt...</td>\n",
       "      <td>Wheat Ridge Middle School</td>\n",
       "      <td>Colorado</td>\n",
       "      <td>CO</td>\n",
       "      <td>-105.103613</td>\n",
       "      <td>39.764055</td>\n",
       "      <td>-105.077206</td>\n",
       "      <td>39.766098</td>\n",
       "    </tr>\n",
       "    <tr>\n",
       "      <th>10991</th>\n",
       "      <td>Woodland Park</td>\n",
       "      <td>United States</td>\n",
       "      <td>Cadets from the Air Force Academy participatin...</td>\n",
       "      <td>Saylor Park Forest</td>\n",
       "      <td>Colorado</td>\n",
       "      <td>CO</td>\n",
       "      <td>-105.022763</td>\n",
       "      <td>39.116658</td>\n",
       "      <td>-105.056930</td>\n",
       "      <td>38.993881</td>\n",
       "    </tr>\n",
       "  </tbody>\n",
       "</table>\n",
       "</div>"
      ],
      "text/plain": [
       "                city        country  \\\n",
       "10987    Westminster  United States   \n",
       "10988    Westminster  United States   \n",
       "10989    Wheat Ridge  United States   \n",
       "10990    Wheat Ridge  United States   \n",
       "10991  Woodland Park  United States   \n",
       "\n",
       "                                             description  \\\n",
       "10987  at 12 midnight you can see a lady with two lit...   \n",
       "10988  Is haunted by the victims of a murder that hap...   \n",
       "10989  The institution was for kids 18 years old and ...   \n",
       "10990  Gymnasium -  their have been reports of a litt...   \n",
       "10991  Cadets from the Air Force Academy participatin...   \n",
       "\n",
       "                        location     state state_abbrev   longitude  \\\n",
       "10987                  city hall  Colorado           CO -105.048936   \n",
       "10988             Pillar of Fire  Colorado           CO -105.032091   \n",
       "10989   Ridge Mental Institution  Colorado           CO -105.063974   \n",
       "10990  Wheat Ridge Middle School  Colorado           CO -105.103613   \n",
       "10991         Saylor Park Forest  Colorado           CO -105.022763   \n",
       "\n",
       "        latitude  city_longitude  city_latitude  \n",
       "10987  39.862610     -105.037205      39.836653  \n",
       "10988  39.847237     -105.037205      39.836653  \n",
       "10989  39.769726     -105.077206      39.766098  \n",
       "10990  39.764055     -105.077206      39.766098  \n",
       "10991  39.116658     -105.056930      38.993881  "
      ]
     },
     "execution_count": 21,
     "metadata": {},
     "output_type": "execute_result"
    }
   ],
   "source": [
    "import pandas as pd\n",
    "data = pd.read_csv('haunted_places.csv')\n",
    "data.head()\n",
    "data.tail()"
   ]
  },
  {
   "cell_type": "markdown",
   "metadata": {},
   "source": [
    "I'm going to start by doing a simple count of the listings in each state. If ghosts were real, you'd expect the New England states to be at the top, simply because large numbers of people have been living in buildings and towns (where their ghosts might reappear) there for the longest. \n",
    "\n",
    "We might also expect states that saw warfare to have higher ghost counts."
   ]
  },
  {
   "cell_type": "code",
   "execution_count": 7,
   "metadata": {},
   "outputs": [
    {
     "data": {
      "text/plain": [
       "California        1070\n",
       "Texas              696\n",
       "Pennsylvania       649\n",
       "Michigan           529\n",
       "Ohio               477\n",
       "New York           459\n",
       "Illinois           395\n",
       "Kentucky           370\n",
       "Indiana            351\n",
       "Massachusetts      342\n",
       "Florida            328\n",
       "Missouri           314\n",
       "Georgia            289\n",
       "Wisconsin          274\n",
       "Alabama            224\n",
       "Tennessee          221\n",
       "Washington         218\n",
       "Oklahoma           211\n",
       "North Carolina     211\n",
       "New Jersey         194\n",
       "Virginia           192\n",
       "Connecticut        185\n",
       "Maryland           170\n",
       "Iowa               169\n",
       "South Carolina     168\n",
       "Colorado           166\n",
       "Minnesota          162\n",
       "Arizona            156\n",
       "Oregon             155\n",
       "Utah               134\n",
       "Kansas             123\n",
       "Arkansas           119\n",
       "Nebraska           111\n",
       "West Virginia      106\n",
       "Louisiana           99\n",
       "Hawaii              96\n",
       "New Mexico          78\n",
       "Wyoming             76\n",
       "South Dakota        75\n",
       "New Hampshire       72\n",
       "Rhode Island        68\n",
       "Idaho               66\n",
       "Mississippi         63\n",
       "Vermont             63\n",
       "North Dakota        58\n",
       "Maine               57\n",
       "Nevada              56\n",
       "Montana             42\n",
       "Delaware            37\n",
       "Alaska              32\n",
       "Washington DC       16\n",
       "Name: state, dtype: int64"
      ]
     },
     "execution_count": 7,
     "metadata": {},
     "output_type": "execute_result"
    }
   ],
   "source": [
    "data[\"state\"].value_counts()"
   ]
  },
  {
   "cell_type": "markdown",
   "metadata": {},
   "source": [
    "Right off the bat this is raising some red flags, because California is one of the newest states, and many New England states are in the bottom half. Where are all these Californian ghosts?"
   ]
  },
  {
   "cell_type": "code",
   "execution_count": 22,
   "metadata": {},
   "outputs": [
    {
     "data": {
      "text/plain": [
       "Los Angeles                   61\n",
       "San Diego                     27\n",
       "San Francisco                 27\n",
       "Riverside                     26\n",
       "Hollywood                     22\n",
       "San Jose                      20\n",
       "Sacramento                    15\n",
       "Bakersfield                   15\n",
       "Redlands                      14\n",
       "Disneyland                    12\n",
       "Pasadena                      12\n",
       "Santa Clara                   11\n",
       "Whittier                      10\n",
       "Santa Cruz                    10\n",
       "San Bernardino                 9\n",
       "Long Beach                     9\n",
       "Ventura                        9\n",
       "Fontana                        9\n",
       "Fresno                         9\n",
       "Antioch                        9\n",
       "Fullerton                      8\n",
       "Arcadia                        8\n",
       "Orange County                  7\n",
       "Vallejo                        7\n",
       "Fallbrook                      7\n",
       "Anaheim                        7\n",
       "Ontario                        7\n",
       "Modesto                        7\n",
       "Lancaster                      7\n",
       "Fremont                        7\n",
       "                              ..\n",
       "Burbank                        1\n",
       "Ferndale                       1\n",
       "El Dorado                      1\n",
       "Lafayette                      1\n",
       "Chualar                        1\n",
       "Banta (Tracy)                  1\n",
       "Berkeley                       1\n",
       "Reedley                        1\n",
       "Lomita                         1\n",
       "Westminster                    1\n",
       "Crockett                       1\n",
       "In California Page 2           1\n",
       "Weed                           1\n",
       "Rubidoux                       1\n",
       "Seaside                        1\n",
       "Arcata                         1\n",
       "Turlock                        1\n",
       "Walnut                         1\n",
       "Pacifica                       1\n",
       "Union City                     1\n",
       "Fillmore                       1\n",
       "Mountain View                  1\n",
       "Carmel                         1\n",
       "Southeast San Diego County     1\n",
       "Heber                          1\n",
       "Yolo                           1\n",
       "Eastlake                       1\n",
       "Canyon Lake                    1\n",
       "Beaumont                       1\n",
       "Bodega Bay                     1\n",
       "Name: city, Length: 394, dtype: int64"
      ]
     },
     "execution_count": 22,
     "metadata": {},
     "output_type": "execute_result"
    }
   ],
   "source": [
    "cali = data.loc[data[\"state\"] == \"California\"]\n",
    "cali[\"city\"].value_counts()"
   ]
  },
  {
   "cell_type": "markdown",
   "metadata": {},
   "source": [
    "LA is full of ghosts, apparently. That's fine, but being a resident of Maine, I'm more interested in what's going on here, so let's take a look at that!"
   ]
  },
  {
   "cell_type": "code",
   "execution_count": 23,
   "metadata": {},
   "outputs": [
    {
     "data": {
      "text/plain": [
       "Farmington         4\n",
       "Freeport           2\n",
       "Poland             2\n",
       "Windham            2\n",
       "Gorham             2\n",
       "Skowhegan          2\n",
       "Brunswick          2\n",
       "York               2\n",
       "Biddeford          1\n",
       "Sandwich           1\n",
       "Salem              1\n",
       "South Portland     1\n",
       "Bellevue           1\n",
       "Lucerne            1\n",
       "Acton              1\n",
       "Manchester         1\n",
       "Cumberland         1\n",
       "Bucksport          1\n",
       "Boothbay Harbor    1\n",
       "Standish           1\n",
       "Lancaster          1\n",
       "Orono              1\n",
       "Waterville         1\n",
       "Union              1\n",
       "Dudley             1\n",
       "Randolph           1\n",
       "Kennebunk port     1\n",
       "Camden             1\n",
       "Vassalboro         1\n",
       "Rockport           1\n",
       "Saco               1\n",
       "Warren             1\n",
       "Madawaska          1\n",
       "Lebanon            1\n",
       "Portland           1\n",
       "Belfast            1\n",
       "Houlton            1\n",
       "Kennebunk          1\n",
       "Millinocket        1\n",
       "Eliot              1\n",
       "Wiscasset          1\n",
       "Ogunquit           1\n",
       "Heron Island       1\n",
       "Caribou            1\n",
       "Bowdoin            1\n",
       "Newfield           1\n",
       "Rome               1\n",
       "Name: city, dtype: int64"
      ]
     },
     "execution_count": 23,
     "metadata": {},
     "output_type": "execute_result"
    }
   ],
   "source": [
    "maine = data.loc[data[\"state\"] == \"Maine\"]\n",
    "maine[\"city\"].value_counts()"
   ]
  },
  {
   "cell_type": "markdown",
   "metadata": {},
   "source": [
    "Two in Freeport, which is quite near me. That's interesting! Let's take a closer look. And let's look at Brunswick, too."
   ]
  },
  {
   "cell_type": "code",
   "execution_count": 51,
   "metadata": {},
   "outputs": [
    {
     "name": "stdout",
     "output_type": "stream",
     "text": [
      "Former employees described clearly hearing footsteps, regularly occurring, walking upstairs when nobody was up there. In what was formerly a house, now a retail store, employees describe having the feeling of being watched, and often catching a glimpse of a figure in a hanging wall mirror. Also, the bells on the door chime on their own when no breeze or person is in the room. - May 2008 Update - The building where Buttons and Things was is now gone. It was demolished to make way for more retail progress in Freeport.\n",
      "Some people say that the YMCA was built on an ancient Indian burial ground, but no one knows the real truth. Sometimes the janitors on night duty see a small female-like figure walking around the pool. Nobody knows who or what it is, or what it wants.\n",
      "There have been three people that have died on BHS grounds. Doors slamming, and moving objects. - May 2008 Update - The old Brunswick high school is reported, but not confirmed as haunted. And there was one death that did not happen in the school. Mimi, the reported spirit, died when the car she was in with her boyfriend backed into a snow bank, filling the exhaust pipe and causing carbon monoxide poisoning. So far the research has not been able to determine there have been no actual deaths within the school itself. Also, this school building is now scheduled for demolition to make way for a new elementary school within the next three years.\n",
      "Up and down river road there are 5 markers made out of stone. It is said that thousands of years ago Native Americans lived on this site. There have been many many surveyors that have looked over the stones and nobody knows what they are or what they were used for. that late at night on full moons strange things happen near those stones. you can hear old voices and singing.\n"
     ]
    }
   ],
   "source": [
    "fp1 = maine[maine['city'] == 'Freeport']\n",
    "bw1 = maine[maine['city'] == 'Brunswick']\n",
    "print(fp1.iloc[0,2])\n",
    "print(fp1.iloc[1,2])\n",
    "print(bw1.iloc[0,2])\n",
    "print(bw1.iloc[1,2])"
   ]
  },
  {
   "cell_type": "markdown",
   "metadata": {},
   "source": [
    "Two demolished buildings and two vague \"Native American burial grounds\" stories. That's rather disappointing. But given that [Freeport's most famous ghost](https://www.pressherald.com/2019/05/19/get-spooked-at-maines-haunted-places/) isn't mentioned here, this data set is obviously imperfect."
   ]
  },
  {
   "cell_type": "code",
   "execution_count": null,
   "metadata": {},
   "outputs": [],
   "source": []
  }
 ],
 "metadata": {
  "kernelspec": {
   "display_name": "Python 3",
   "language": "python",
   "name": "python3"
  },
  "language_info": {
   "codemirror_mode": {
    "name": "ipython",
    "version": 3
   },
   "file_extension": ".py",
   "mimetype": "text/x-python",
   "name": "python",
   "nbconvert_exporter": "python",
   "pygments_lexer": "ipython3",
   "version": "3.7.1"
  }
 },
 "nbformat": 4,
 "nbformat_minor": 2
}
